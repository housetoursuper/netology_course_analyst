{
 "cells": [
  {
   "cell_type": "markdown",
   "metadata": {},
   "source": [
    "### Домашнее задание к лекции «Исключения и обработка ошибок»"
   ]
  },
  {
   "cell_type": "markdown",
   "metadata": {},
   "source": [
    "#### Задание 1\n",
    "Печатные газеты использовали свой формат дат для каждого выпуска. Для каждой газеты из списка напишите формат указанной даты для перевода в объект datetime:\n",
    "The Moscow Times - Wednesday, October 2, 2002\n",
    "The Guardian - Friday, 11.10.13\n",
    "Daily News - Thursday, 18 August 1977"
   ]
  },
  {
   "cell_type": "code",
   "execution_count": 1,
   "metadata": {},
   "outputs": [
    {
     "name": "stdout",
     "output_type": "stream",
     "text": [
      "2002-10-02-Wed\n",
      "2013-10-11-Fri\n",
      "1977-08-18-Thu\n"
     ]
    }
   ],
   "source": [
    "from datetime import datetime\n",
    "\n",
    "date_formats = [\n",
    "    '%A, %B %d, %Y', \n",
    "    '%A, %d.%m.%y', \n",
    "    '%A, %d %B %Y'\n",
    "]\n",
    "text_whis_date = [\n",
    "    'The Moscow Times - Wednesday, October 2, 2002',\n",
    "    'The Guardian - Friday, 11.10.13', \n",
    "    'Daily News - Thursday, 18 August 1977'\n",
    "]\n",
    "valid_date = []\n",
    "i = 0\n",
    "for list_text_whis_date in text_whis_date:\n",
    "    i += 1\n",
    "    # Отсекаем текст, оставляем только даты\n",
    "    date_without_text = list_text_whis_date.partition('- ')[-1]\n",
    "    # Преобразование строки в соответствующий формат времени\n",
    "    valid_date = datetime.strptime(date_without_text, date_formats[i - 1])\n",
    "    # Преобразуем и выводим даты в заданном формате\n",
    "    print(valid_date.strftime(\"%Y-%m-%d-%a\"))"
   ]
  },
  {
   "cell_type": "markdown",
   "metadata": {},
   "source": [
    "#### Задание 2\n",
    "Дан поток дат в формате YYYY-MM-DD, в которых встречаются некорректные значения:\n",
    "stream = [‘2018-04-02’, ‘2018-02-29’, ‘2018-19-02’]\n",
    "\n",
    "Напишите функцию, которая проверяет эти даты на корректность. Т. е. для каждой даты возвращает True (дата корректна) или False (некорректная дата)."
   ]
  },
  {
   "cell_type": "code",
   "execution_count": 2,
   "metadata": {},
   "outputs": [
    {
     "name": "stdout",
     "output_type": "stream",
     "text": [
      "дата корректна\n",
      "некорректная дата\n",
      "некорректная дата\n"
     ]
    }
   ],
   "source": [
    "from datetime import datetime\n",
    "stream = [\n",
    "    '2018-04-02', \n",
    "    '2018-02-29', \n",
    "    '2018-19-02']\n",
    "def check_date(list_date):\n",
    "    for date in list_date:\n",
    "        try:\n",
    "            valid_date = datetime.strptime(date, '%Y-%m-%d')\n",
    "            print('дата корректна')    \n",
    "        except ValueError:\n",
    "            print('некорректная дата')\n",
    "check_date(stream)"
   ]
  },
  {
   "cell_type": "markdown",
   "metadata": {},
   "source": [
    "#### Задание 3\n",
    "Напишите функцию date_range, которая возвращает список дат за период от start_date до end_date. Даты должны вводиться в формате YYYY-MM-DD. В случае неверного формата или при start_date > end_date должен возвращаться пустой список."
   ]
  },
  {
   "cell_type": "code",
   "execution_count": 3,
   "metadata": {},
   "outputs": [
    {
     "name": "stdout",
     "output_type": "stream",
     "text": [
      "Введите начальную дату в формате YYYY-MM-DD: 2020-03-05\n",
      "Введите дату окончания в формате YYYY-MM-DD: 2020-03-15\n"
     ]
    },
    {
     "data": {
      "text/plain": [
       "['2020-03-06',\n",
       " '2020-03-07',\n",
       " '2020-03-08',\n",
       " '2020-03-09',\n",
       " '2020-03-10',\n",
       " '2020-03-11',\n",
       " '2020-03-12',\n",
       " '2020-03-13',\n",
       " '2020-03-14',\n",
       " '2020-03-15',\n",
       " '2020-03-16']"
      ]
     },
     "execution_count": 3,
     "metadata": {},
     "output_type": "execute_result"
    }
   ],
   "source": [
    "from datetime import timedelta\n",
    "from datetime import datetime\n",
    "start_date=input('Введите начальную дату в формате YYYY-MM-DD: ')\n",
    "end_date=input('Введите дату окончания в формате YYYY-MM-DD: ')\n",
    "def date_range(start, end):\n",
    "    start_datetime = datetime.strptime(start,'%Y-%m-%d')\n",
    "    end_datetime = datetime.strptime(end,'%Y-%m-%d')\n",
    "    days=[]\n",
    "    \n",
    "    if start_datetime < end_datetime:\n",
    "        intermediate_datetime = start_datetime\n",
    "        \n",
    "        while intermediate_datetime <= end_datetime:\n",
    "            intermediate_datetime = intermediate_datetime + timedelta(days = 1)\n",
    "            print_datetime = datetime.strftime(intermediate_datetime,'%Y-%m-%d')\n",
    "            days.append(print_datetime)\n",
    "        \n",
    "    return(days)\n",
    "date_range(start_date, end_date)"
   ]
  },
  {
   "cell_type": "code",
   "execution_count": null,
   "metadata": {},
   "outputs": [],
   "source": []
  }
 ],
 "metadata": {
  "kernelspec": {
   "display_name": "Python 3",
   "language": "python",
   "name": "python3"
  },
  "language_info": {
   "codemirror_mode": {
    "name": "ipython",
    "version": 3
   },
   "file_extension": ".py",
   "mimetype": "text/x-python",
   "name": "python",
   "nbconvert_exporter": "python",
   "pygments_lexer": "ipython3",
   "version": "3.8.3"
  }
 },
 "nbformat": 4,
 "nbformat_minor": 4
}
