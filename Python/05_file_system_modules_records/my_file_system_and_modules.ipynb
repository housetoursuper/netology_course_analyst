{
 "cells": [
  {
   "cell_type": "markdown",
   "metadata": {},
   "source": [
    "### Домашнее задание к лекции Работа с файловой системой и модули"
   ]
  },
  {
   "cell_type": "markdown",
   "metadata": {},
   "source": [
    "1. Переведите содержимое файла purchase_log.txt в словарь purchases вида:\n",
    "{‘1840e0b9d4’: ‘Продукты’, …}"
   ]
  },
  {
   "cell_type": "code",
   "execution_count": 1,
   "metadata": {},
   "outputs": [],
   "source": [
    "import json #импорт модуля"
   ]
  },
  {
   "cell_type": "code",
   "execution_count": 2,
   "metadata": {},
   "outputs": [
    {
     "name": "stdout",
     "output_type": "stream",
     "text": [
      "{'user_id': 'category'}\n",
      "{'1840e0b9d4': 'Продукты'}\n",
      "{'4e4f90fcfb': 'Электроника'}\n",
      "{'afea8d72fc': 'Электроника'}\n",
      "{'373a6055fe': 'Бытовая техника'}\n",
      "{'9b2ab046f3': 'Электроника'}\n"
     ]
    }
   ],
   "source": [
    "x = 0 #задаём начальное значение счётчика\n",
    "dic_purchases = {} #обозначаем словарь\n",
    "with open (r'C:\\Users\\Ryzen\\Desktop\\DataSet\\Data Analyst\\file system and modules\\source data\\purchase_log.txt', encoding='utf-8') as f:\n",
    "    for i in f.readlines(): #задаём цикл с построчным чтением\n",
    "        i = i.strip() #Метод str.strip() вернет копию строки str с удаленными начальными и конечными символами\n",
    "        dic_ = json.loads(i)#Функция `loads()` модуля `json` преобразует строку в формате JSON\n",
    "        \n",
    "        for j in dic_.items(): # Запуск цикл. Метод items() возвращают список кортежей dict (ключ, значение) \n",
    "            key = dic_['user_id'] #Привязка ключей\n",
    "            value = dic_['category'] #Привязка значений\n",
    "            dic_purchases = {key : value} #формируем итоговый словарь\n",
    "        print(dic_purchases) #выводим итоговый словарь\n",
    "            \n",
    "        x += 1\n",
    "        if x > 5:\n",
    "            break #остановка счётчика после 6 итераций, начиная с 0 до 5"
   ]
  },
  {
   "cell_type": "markdown",
   "metadata": {},
   "source": [
    "2. Для каждого user_id в файле visit_log.csv определите третий столбец с категорией покупки (если покупка была, сам файл visit_log.csv изменять не надо). Запишите в файл funnel.csv визиты из файла visit_log.csv, в которых были покупки с указанием категории.\n",
    "Учтите условия на данные:\n",
    "содержимое purchase_log.txt помещается в оперативную память компьютера\n",
    "содержимое visit_log.csv - нет; используйте только построчную обработку этого файла"
   ]
  },
  {
   "cell_type": "code",
   "execution_count": 10,
   "metadata": {},
   "outputs": [],
   "source": [
    "import json\n",
    "with open(r'C:\\Users\\Ryzen\\Desktop\\DataSet\\Data Analyst\\file system and modules\\source data\\visit_log.csv', encoding = 'utf-8') as f_read:\n",
    "    with open('funnel.csv', 'w', encoding = 'utf-8') as f_write:\n",
    "        for line in f_read.readlines(): # задаем цикл с построчным чтением\n",
    "            range_ = line.strip().split(',') # отсекаем лишнее, формируем ряд\n",
    "            if range_[0] in dic_purchases.keys(): # условие возвращает новый список-представление всех ключей\n",
    "                range_.append(dic_purchases[range_[0]]) # добавление списка в список\n",
    "                add_line = ','.join(range_) # объединение списка строк\n",
    "            elif range_[0] == 'user_id': # условие добавления категории\n",
    "                range_.append('category')\n",
    "                add_line = ','.join(range_)\n",
    "            else: # условие записи в файл\n",
    "                add_line = ','.join(range_)\n",
    "            f_write.write(add_line + '\\n')           "
   ]
  },
  {
   "cell_type": "code",
   "execution_count": null,
   "metadata": {},
   "outputs": [],
   "source": []
  }
 ],
 "metadata": {
  "kernelspec": {
   "display_name": "Python 3",
   "language": "python",
   "name": "python3"
  },
  "language_info": {
   "codemirror_mode": {
    "name": "ipython",
    "version": 3
   },
   "file_extension": ".py",
   "mimetype": "text/x-python",
   "name": "python",
   "nbconvert_exporter": "python",
   "pygments_lexer": "ipython3",
   "version": "3.8.3"
  }
 },
 "nbformat": 4,
 "nbformat_minor": 4
}
