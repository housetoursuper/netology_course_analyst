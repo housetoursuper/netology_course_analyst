{
 "cells": [
  {
   "cell_type": "markdown",
   "metadata": {},
   "source": [
    "# Домашнее задание «Управляющие конструкции и коллекции» часть 1"
   ]
  },
  {
   "cell_type": "markdown",
   "metadata": {},
   "source": [
    "### Задание 1\n",
    "Дана переменная, в которой хранится слово из латинских букв. Напишите код, который выводит на экран:\n",
    "\n",
    "среднюю букву, если число букв в слове нечетное;\n",
    "две средних буквы, если число букв четное.\n",
    "Примеры работы программы:\n",
    "\n",
    "word = ‘test’\n",
    "Результат:\n",
    "es\n",
    "\n",
    "word = ‘testing’\n",
    "Результат:\n",
    "t"
   ]
  },
  {
   "cell_type": "code",
   "execution_count": 1,
   "metadata": {},
   "outputs": [],
   "source": [
    "# Ввод слова:\n",
    "word = 'testing'"
   ]
  },
  {
   "cell_type": "code",
   "execution_count": 2,
   "metadata": {},
   "outputs": [
    {
     "data": {
      "text/plain": [
       "7"
      ]
     },
     "execution_count": 2,
     "metadata": {},
     "output_type": "execute_result"
    }
   ],
   "source": [
    "# Определение количества символов в слове, шт.:\n",
    "len(word)"
   ]
  },
  {
   "cell_type": "code",
   "execution_count": 3,
   "metadata": {},
   "outputs": [
    {
     "name": "stdout",
     "output_type": "stream",
     "text": [
      "t\n"
     ]
    }
   ],
   "source": [
    "# Проверка условий и вывод результата:\n",
    "if len(word) % 2 != 0:\n",
    "    print(word[len(word)//2])\n",
    "else:\n",
    "    print(word[len(word)//2-1] + word[len(word)//2])"
   ]
  },
  {
   "cell_type": "markdown",
   "metadata": {},
   "source": [
    "### Задание 2\n",
    "Напишите программу, которая последовательно запрашивает у пользователя числа (по одному за раз) и после первого нуля выводит сумму всех ранее введенных чисел.\n",
    "\n",
    "Примеры работы программы:\n",
    "\n",
    "Введите число:\n",
    "1\n",
    "\n",
    "Введите число:\n",
    "4\n",
    "\n",
    "Введите число:\n",
    "6\n",
    "\n",
    "Введите число:\n",
    "0\n",
    "Результат:\n",
    "11\n",
    "\n",
    "Введите число:\n",
    "0\n",
    "Результат:\n",
    "0"
   ]
  },
  {
   "cell_type": "code",
   "execution_count": 4,
   "metadata": {},
   "outputs": [
    {
     "name": "stdout",
     "output_type": "stream",
     "text": [
      "Введите число: 1\n"
     ]
    }
   ],
   "source": [
    "# Вводим первое по порядку число число:\n",
    "number = int(input(\"Введите число: \"))\n",
    "array = [] # обозначаем массив"
   ]
  },
  {
   "cell_type": "code",
   "execution_count": 5,
   "metadata": {},
   "outputs": [
    {
     "name": "stdout",
     "output_type": "stream",
     "text": [
      "Вводите значение: 4\n",
      "Вводите значение: 6\n",
      "Вводите значение: 0\n",
      "Сумма введенных чисел:  11\n"
     ]
    }
   ],
   "source": [
    "# Запускаем цикл, пока число не равно 0\n",
    "while number != 0:\n",
    "    array.append(number)  # формируем массив\n",
    "    number = int(input(\"Вводите значение: \"))\n",
    "print('Сумма введенных чисел: ', sum(array))  # вывод суммы всех элементов массива, если введенное число равно нулю"
   ]
  },
  {
   "cell_type": "markdown",
   "metadata": {},
   "source": [
    "### Задание 3\n",
    "Мы делаем MVP dating-сервиса, и у нас есть список парней и девушек.\n",
    "Выдвигаем гипотезу: лучшие рекомендации мы получим, если просто отсортируем имена по алфавиту и познакомим людей с одинаковыми индексами после сортировки! Но мы не будем никого знакомить, если кто-то может остаться без пары:\n",
    "\n",
    "Примеры работы программы:\n",
    "\n",
    "boys = [‘Peter’, ‘Alex’, ‘John’, ‘Arthur’, ‘Richard’]\n",
    "girls = [‘Kate’, ‘Liza’, ‘Kira’, ‘Emma’, ‘Trisha’]\n",
    "Результат:\n",
    "\n",
    "Идеальные пары:\n",
    "Alex и Emma\n",
    "Arthur и Kate\n",
    "John и Kira\n",
    "Peter и Liza\n",
    "Richard и Trisha\n",
    "boys = [‘Peter’, ‘Alex’, ‘John’, ‘Arthur’, ‘Richard’, ‘Michael’]\n",
    "girls = [‘Kate’, ‘Liza’, ‘Kira’, ‘Emma’, ‘Trisha’]\n",
    "Результат:\n",
    "Внимание, кто-то может остаться без пары!"
   ]
  },
  {
   "cell_type": "code",
   "execution_count": 6,
   "metadata": {},
   "outputs": [],
   "source": [
    "boys = ['Peter', 'Alex', 'John', 'Arthur', 'Richard']\n",
    "#boys = ['Peter', 'Alex', 'John', 'Arthur', 'Richard', 'Michael'] \n",
    "girls = ['Kate', 'Liza', 'Kira', 'Emma', 'Trisha']\n"
   ]
  },
  {
   "cell_type": "code",
   "execution_count": 7,
   "metadata": {},
   "outputs": [
    {
     "name": "stdout",
     "output_type": "stream",
     "text": [
      "['Alex', 'Arthur', 'John', 'Peter', 'Richard']\n",
      "['Emma', 'Kate', 'Kira', 'Liza', 'Trisha']\n"
     ]
    }
   ],
   "source": [
    "# Сортируем по алфавиту и выводим на печать:\n",
    "\n",
    "after_sorted_boys = sorted (boys)\n",
    "print(after_sorted_boys)\n",
    "\n",
    "after_sorted_girls = sorted (girls)\n",
    "print(after_sorted_girls)"
   ]
  },
  {
   "cell_type": "code",
   "execution_count": 8,
   "metadata": {},
   "outputs": [
    {
     "name": "stdout",
     "output_type": "stream",
     "text": [
      "Идеальные пары:  [('Alex', 'Emma'), ('Arthur', 'Kate'), ('John', 'Kira'), ('Peter', 'Liza'), ('Richard', 'Trisha')]\n"
     ]
    }
   ],
   "source": [
    "# Проверка равенства количества элементов в списках: Вывод результата\n",
    "if len(after_sorted_boys) != len(after_sorted_girls):\n",
    "    print ('Внимание, кто-то может остаться без пары!')\n",
    "else:\n",
    "    zip_after_sorted = zip (after_sorted_boys, after_sorted_girls)\n",
    "    print ('Идеальные пары: ', list(zip_after_sorted))"
   ]
  },
  {
   "cell_type": "code",
   "execution_count": 9,
   "metadata": {},
   "outputs": [
    {
     "name": "stdout",
     "output_type": "stream",
     "text": [
      "Идеальные пары:  [('Alex', 'Emma'), ('Arthur', 'Kate'), ('John', 'Kira'), ('Peter', 'Liza'), ('Richard', 'Trisha')]\n"
     ]
    }
   ],
   "source": [
    "# Проверка равенства количества элементов в списках: Вывод результата\n",
    "if len(after_sorted_boys) != len(after_sorted_girls):\n",
    "    print ('Внимание, кто-то может остаться без пары!')\n",
    "else:\n",
    "    zip_after_sorted = zip (after_sorted_boys, after_sorted_girls)\n",
    "    print ('Идеальные пары: ', list(zip_after_sorted))"
   ]
  },
  {
   "cell_type": "markdown",
   "metadata": {},
   "source": [
    "### Решение с выводом как в примере:"
   ]
  },
  {
   "cell_type": "code",
   "execution_count": 10,
   "metadata": {},
   "outputs": [
    {
     "name": "stdout",
     "output_type": "stream",
     "text": [
      "Идеальные пары:  Alex и Emma Arthur и Kate John и Kira Peter и Liza Richard и Trisha "
     ]
    }
   ],
   "source": [
    "if len(after_sorted_boys)==len(after_sorted_girls):\n",
    "    print('Идеальные пары: ', sep=\" \", end=\" \")\n",
    "    zip_after_sorted = zip (after_sorted_boys, after_sorted_girls)\n",
    "    for all_ in zip_after_sorted:\n",
    "        print(f\"{all_[0]} и {all_[1]}\", sep=\" \", end=\" \")\n",
    "else:\n",
    " \n",
    "    print(\"Кто то может остаться без пары\")"
   ]
  },
  {
   "cell_type": "markdown",
   "metadata": {},
   "source": [
    "### Задание 4\n",
    "У нас есть список, содержащий информацию о среднедневной температуре в Фаренгейтах за произвольный период по странам (структура данных в примере). Необходимо написать код, который рассчитает среднюю температуру за период в Цельсиях(!) для каждой страны.\n",
    "\n",
    "Пример работы программы:\n",
    "\n",
    "countries_temperature = [\n",
    "[‘Thailand’, [75.2, 77, 78.8, 73.4, 68, 75.2, 77]],\n",
    "[‘Germany’, [57.2, 55.4, 59, 59, 53.6]],\n",
    "[‘Russia’, [35.6, 37.4, 39.2, 41, 42.8, 39.2, 35.6]],\n",
    "[‘Poland’, [50, 50, 53.6, 57.2, 55.4, 55.4]]\n",
    "]\n",
    "Результат:\n",
    "\n",
    "Средняя температура в странах:\n",
    "Thailand - 23.9 С\n",
    "Germany - 13.8 С\n",
    "Russia - 3.7 С\n",
    "Poland - 12.0 С"
   ]
  },
  {
   "cell_type": "code",
   "execution_count": 11,
   "metadata": {},
   "outputs": [],
   "source": [
    "# Справочно: \n",
    "# Для перевода температуры из шкалы Фаренгейта в шкалу Цельсия нужно от исходного числа отнять 32 и умножить результат на 5/9"
   ]
  },
  {
   "cell_type": "code",
   "execution_count": 12,
   "metadata": {},
   "outputs": [],
   "source": [
    "countries_temperature = [ \n",
    "    ['Thailand', [75.2, 77, 78.8, 73.4, 68, 75.2, 77]], \n",
    "    ['Germany', [57.2, 55.4, 59, 59, 53.6]], \n",
    "    ['Russia', [35.6, 37.4, 39.2, 41, 42.8, 39.2, 35.6]], \n",
    "    ['Poland', [50, 50, 53.6, 57.2, 55.4, 55.4]] ]"
   ]
  },
  {
   "cell_type": "code",
   "execution_count": 13,
   "metadata": {},
   "outputs": [],
   "source": [
    "mean_countries_temperature_celsius = map(lambda x: [x[0], round((sum(x[1])/len(x[1]) - 32) * (5/9), 1)], countries_temperature)"
   ]
  },
  {
   "cell_type": "code",
   "execution_count": 14,
   "metadata": {},
   "outputs": [
    {
     "name": "stdout",
     "output_type": "stream",
     "text": [
      "Средняя температура в странах:  [['Thailand', 23.9], ['Germany', 13.8], ['Russia', 3.7], ['Poland', 12.0]]\n"
     ]
    }
   ],
   "source": [
    "print('Средняя температура в странах: ', list(mean_countries_temperature_celsius))"
   ]
  },
  {
   "cell_type": "markdown",
   "metadata": {},
   "source": [
    "### Решение с выводом как в примере:"
   ]
  },
  {
   "cell_type": "code",
   "execution_count": 15,
   "metadata": {},
   "outputs": [
    {
     "name": "stdout",
     "output_type": "stream",
     "text": [
      "Thailand - 23.9 C Germany - 13.8 C Russia - 3.7 C Poland - 12.0 C "
     ]
    }
   ],
   "source": [
    "for i in countries_temperature:\n",
    "    print(i[0], '-', round((sum(i[1]) / len(i[1]) - 32) / 1.8, 1), 'C', sep=\" \", end=\" \")"
   ]
  }
 ],
 "metadata": {
  "kernelspec": {
   "display_name": "Python 3",
   "language": "python",
   "name": "python3"
  },
  "language_info": {
   "codemirror_mode": {
    "name": "ipython",
    "version": 3
   },
   "file_extension": ".py",
   "mimetype": "text/x-python",
   "name": "python",
   "nbconvert_exporter": "python",
   "pygments_lexer": "ipython3",
   "version": "3.8.3"
  }
 },
 "nbformat": 4,
 "nbformat_minor": 4
}
